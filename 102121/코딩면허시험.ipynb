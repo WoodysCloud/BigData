{
 "cells": [
  {
   "cell_type": "markdown",
   "id": "f54172d2",
   "metadata": {},
   "source": [
    "# 1)"
   ]
  },
  {
   "cell_type": "code",
   "execution_count": 14,
   "id": "c4adbdc2",
   "metadata": {},
   "outputs": [
    {
     "name": "stdout",
     "output_type": "stream",
     "text": [
      "a#b#c#d\n"
     ]
    }
   ],
   "source": [
    "strtest = \"a:b:c:d\"\n",
    "strtest = tuple(strtest.split(\":\"))\n",
    "strtest = \"#\".join(strtest)\n",
    "print(strtest)"
   ]
  },
  {
   "cell_type": "code",
   "execution_count": null,
   "id": "7ca62e09",
   "metadata": {},
   "outputs": [],
   "source": []
  }
 ],
 "metadata": {
  "kernelspec": {
   "display_name": "Python 3",
   "language": "python",
   "name": "python3"
  },
  "language_info": {
   "codemirror_mode": {
    "name": "ipython",
    "version": 3
   },
   "file_extension": ".py",
   "mimetype": "text/x-python",
   "name": "python",
   "nbconvert_exporter": "python",
   "pygments_lexer": "ipython3",
   "version": "3.8.8"
  }
 },
 "nbformat": 4,
 "nbformat_minor": 5
}

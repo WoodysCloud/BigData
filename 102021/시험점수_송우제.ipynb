{
 "cells": [
  {
   "cell_type": "code",
   "execution_count": 3,
   "id": "94db811d",
   "metadata": {},
   "outputs": [
    {
     "name": "stdout",
     "output_type": "stream",
     "text": [
      "당신의 시험점수는?: 96\n",
      "당신의 점수는 A입니다.\n"
     ]
    }
   ],
   "source": [
    "# input (0 <= 정수 <= 100)\n",
    "grade = int(input(\"당신의 시험점수는?: \"))\n",
    "\n",
    "# 분기 처리\n",
    "if grade > 100 or grade < 0:\n",
    "    print(\"0보다 크거나 같고, 100보다 작거나 같은 정수를 입력해주세요~\")\n",
    "elif 90 <= grade <= 100:\n",
    "    print(\"당신의 점수는 A입니다.\")\n",
    "elif 80 <= grade <= 89:\n",
    "    print(\"당신의 점수는 B입니다.\")\n",
    "elif 70 <= grade <= 79:\n",
    "    print(\"당신의 점수는 C입니다.\")\n",
    "elif 60 <= grade <= 69:\n",
    "    print(\"당신의 점수는 D입니다.\")\n",
    "else:\n",
    "    print(\"당신의 점수는 F입니다.\")"
   ]
  },
  {
   "cell_type": "code",
   "execution_count": null,
   "id": "0669dab0",
   "metadata": {},
   "outputs": [],
   "source": []
  }
 ],
 "metadata": {
  "kernelspec": {
   "display_name": "Python 3",
   "language": "python",
   "name": "python3"
  },
  "language_info": {
   "codemirror_mode": {
    "name": "ipython",
    "version": 3
   },
   "file_extension": ".py",
   "mimetype": "text/x-python",
   "name": "python",
   "nbconvert_exporter": "python",
   "pygments_lexer": "ipython3",
   "version": "3.8.8"
  }
 },
 "nbformat": 4,
 "nbformat_minor": 5
}

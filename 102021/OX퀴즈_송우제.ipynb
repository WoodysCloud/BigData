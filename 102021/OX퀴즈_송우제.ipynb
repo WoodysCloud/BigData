{
 "cells": [
  {
   "cell_type": "code",
   "execution_count": 12,
   "id": "db0448ee",
   "metadata": {},
   "outputs": [
    {
     "name": "stdout",
     "output_type": "stream",
     "text": [
      "OX퀴즈 결과: OOOOXOOOOXOOOOX\n",
      "30\n"
     ]
    }
   ],
   "source": [
    "# OX퀴즈\n",
    "\n",
    "# OX퀴즈 결과를 리스트로\n",
    "ox = input(\"OX퀴즈 결과: \")\n",
    "# ox = \"OOXXOXXOOO\"\n",
    "\n",
    "# \"O\"의 개수와 순서에 따라 바뀔 점수 변수 설정\n",
    "grade = 0\n",
    "\n",
    "# OX퀴즈를 맞춘 문제 수와 연속으로 맞춘 문제 수 구별해서 리스트로\n",
    "number = list(ox.split(\"X\"))\n",
    "\n",
    "# \"O\" 개수 및 연속된 \"O\" 점수 계산\n",
    "for i in number:\n",
    "    \n",
    "    # 맞춘 문제 중 연속으로 맞춘 문제가 없을 경우\n",
    "    if len(i) == 1:\n",
    "        grade += 1\n",
    "        \n",
    "    # 연속으로 맞춘 문제들의 경우\n",
    "    elif len(i) > 1:\n",
    "        for j in range(len(i)+1):\n",
    "            grade += j\n",
    "        \n",
    "print(grade)"
   ]
  },
  {
   "cell_type": "code",
   "execution_count": null,
   "id": "dff7f4a8",
   "metadata": {},
   "outputs": [],
   "source": []
  }
 ],
 "metadata": {
  "kernelspec": {
   "display_name": "Python 3",
   "language": "python",
   "name": "python3"
  },
  "language_info": {
   "codemirror_mode": {
    "name": "ipython",
    "version": 3
   },
   "file_extension": ".py",
   "mimetype": "text/x-python",
   "name": "python",
   "nbconvert_exporter": "python",
   "pygments_lexer": "ipython3",
   "version": "3.8.8"
  }
 },
 "nbformat": 4,
 "nbformat_minor": 5
}

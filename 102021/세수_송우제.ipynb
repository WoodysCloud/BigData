{
 "cells": [
  {
   "cell_type": "code",
   "execution_count": 46,
   "id": "238213f8",
   "metadata": {},
   "outputs": [
    {
     "name": "stdout",
     "output_type": "stream",
     "text": [
      "1과 100 사이의 정수 3개 입력: 20 20 10\n",
      "20\n"
     ]
    }
   ],
   "source": [
    "import numpy as np\n",
    "\n",
    "# 세 수 입력(str)\n",
    "integers = input(\"1과 100 사이의 정수 3개 입력: \")\n",
    "\n",
    "# 공백 기준 split해서 리스트로\n",
    "numbers = integers.split()\n",
    "\n",
    "# split한 리스트 안 str값들을 int로 변경 (comprehension 사용)\n",
    "three = [int(i) for i in numbers]\n",
    "three.sort()\n",
    "\n",
    "second = three[1]\n",
    "print(second)"
   ]
  },
  {
   "cell_type": "code",
   "execution_count": null,
   "id": "81be8ce8",
   "metadata": {},
   "outputs": [],
   "source": []
  }
 ],
 "metadata": {
  "kernelspec": {
   "display_name": "Python 3",
   "language": "python",
   "name": "python3"
  },
  "language_info": {
   "codemirror_mode": {
    "name": "ipython",
    "version": 3
   },
   "file_extension": ".py",
   "mimetype": "text/x-python",
   "name": "python",
   "nbconvert_exporter": "python",
   "pygments_lexer": "ipython3",
   "version": "3.8.8"
  }
 },
 "nbformat": 4,
 "nbformat_minor": 5
}

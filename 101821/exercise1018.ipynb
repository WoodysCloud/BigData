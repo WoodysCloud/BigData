{
 "cells": [
  {
   "cell_type": "code",
   "execution_count": 3,
   "id": "d6fe430d",
   "metadata": {},
   "outputs": [],
   "source": [
    "# 셀 시행 shift+enter"
   ]
  },
  {
   "cell_type": "markdown",
   "id": "798bc4c7",
   "metadata": {},
   "source": [
    "# 1. 주피터 노트북"
   ]
  },
  {
   "cell_type": "markdown",
   "id": "f08ad9b9",
   "metadata": {},
   "source": [
    "## 1) 노트북 사용하기"
   ]
  },
  {
   "cell_type": "markdown",
   "id": "961c3312",
   "metadata": {},
   "source": [
    "### - 너무 잘된당...ㅋㅋㅋ"
   ]
  },
  {
   "cell_type": "code",
   "execution_count": null,
   "id": "581a6090",
   "metadata": {},
   "outputs": [],
   "source": []
  }
 ],
 "metadata": {
  "kernelspec": {
   "display_name": "Python 3",
   "language": "python",
   "name": "python3"
  },
  "language_info": {
   "codemirror_mode": {
    "name": "ipython",
    "version": 3
   },
   "file_extension": ".py",
   "mimetype": "text/x-python",
   "name": "python",
   "nbconvert_exporter": "python",
   "pygments_lexer": "ipython3",
   "version": "3.8.8"
  }
 },
 "nbformat": 4,
 "nbformat_minor": 5
}
